{
 "cells": [
  {
   "cell_type": "code",
   "execution_count": 2,
   "metadata": {},
   "outputs": [],
   "source": [
    "from keras.preprocessing.sequence import pad_sequences\n",
    "from keras.layers import Embedding, LSTM, Dense\n",
    "from keras.preprocessing.text import Tokenizer\n",
    "from keras.models import load_model\n",
    "from keras.callbacks import EarlyStopping\n",
    "from keras.models import Sequential\n",
    "import keras.utils as ku\n",
    "import pandas as pd\n",
    "import string\n",
    "import pickle"
   ]
  },
  {
   "cell_type": "code",
   "execution_count": 6,
   "metadata": {},
   "outputs": [],
   "source": [
    "model = load_model('model_lagu_100_epoch.h5')\n",
    "\n",
    "tokenizer = pickle.load(open('tokenizer_lagu_100_epoch.pkl', \"rb\"))"
   ]
  },
  {
   "cell_type": "code",
   "execution_count": 48,
   "metadata": {},
   "outputs": [],
   "source": [
    "def generate_text(seed_text, next_words, model, max_sequence_len):\n",
    "    for _ in range(next_words):\n",
    "        token_list = tokenizer.texts_to_sequences([seed_text])[0]\n",
    "        token_list = pad_sequences([token_list], maxlen=max_sequence_len-1, padding='pre')\n",
    "        predicted = model.predict_classes(token_list, verbose=0)\n",
    "        \n",
    "        output_word = \"\"\n",
    "        for word,index in tokenizer.word_index.items():\n",
    "            if index == predicted:\n",
    "                output_word = word\n",
    "                break\n",
    "        seed_text += \" \"+output_word\n",
    "    return seed_text"
   ]
  },
  {
   "cell_type": "code",
   "execution_count": 73,
   "metadata": {},
   "outputs": [
    {
     "name": "stdout",
     "output_type": "stream",
     "text": [
      "1. cinta yang tak pernah pernah ada di dalam hatiku kau tak bisa menepis dirimu yang tak\n",
      "===========\n",
      "2. aku ingin ada di hatiku tak pernah bisa mencintaimu darimu tak bisa ku tak bisa menahan mencobacoba\n",
      "===========\n",
      "3. aku rindu padamu tak pernah ada rasa yang tak pernah pernah ada di dalam hatiku kau tak\n",
      "===========\n",
      "4. pergilah kamu tak pernah ada rasa yang tak pernah ku keluhkan padamu yang lain tak mungkin kau\n",
      "===========\n",
      "5. aku dan kamu tak bisa ku tak bisa bisa kepayang kepayang kepayang aku tak bisa kepayang kepayang kepayang\n",
      "===========\n",
      "6. aku sangat bahagia aku tak bisa ku tak bisa bisa kepayang kepayang kepayang aku tak bisa kepayang kepayang\n"
     ]
    }
   ],
   "source": [
    "print(\"1. \"+generate_text(\"cinta\",15, model, 729))\n",
    "print(\"===========\")\n",
    "print(\"2. \"+generate_text(\"aku ingin\",15, model, 729))\n",
    "print(\"===========\")\n",
    "print(\"3. \"+generate_text(\"aku rindu\",15, model, 729))\n",
    "print(\"===========\")\n",
    "print(\"4. \"+generate_text(\"pergilah kamu\",15, model, 729))\n",
    "print(\"===========\")\n",
    "print(\"5. \"+generate_text(\"aku dan kamu\",15, model, 729))\n",
    "print(\"===========\")\n",
    "print(\"6. \"+generate_text(\"aku sangat bahagia\",15, model, 729))"
   ]
  },
  {
   "cell_type": "code",
   "execution_count": null,
   "metadata": {},
   "outputs": [],
   "source": []
  }
 ],
 "metadata": {
  "kernelspec": {
   "display_name": "Python 3",
   "language": "python",
   "name": "python3"
  },
  "language_info": {
   "codemirror_mode": {
    "name": "ipython",
    "version": 3
   },
   "file_extension": ".py",
   "mimetype": "text/x-python",
   "name": "python",
   "nbconvert_exporter": "python",
   "pygments_lexer": "ipython3",
   "version": "3.6.2"
  }
 },
 "nbformat": 4,
 "nbformat_minor": 2
}
