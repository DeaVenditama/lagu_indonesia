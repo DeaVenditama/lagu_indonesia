{
 "cells": [
  {
   "cell_type": "code",
   "execution_count": 1,
   "metadata": {},
   "outputs": [
    {
     "name": "stderr",
     "output_type": "stream",
     "text": [
      "Using TensorFlow backend.\n"
     ]
    }
   ],
   "source": [
    "import pandas as pd\n",
    "import string\n",
    "import re\n",
    "from numpy import array\n",
    "from pickle import dump\n",
    "from keras.preprocessing.text import Tokenizer\n",
    "from keras.utils import to_categorical\n",
    "from keras.models import Sequential\n",
    "from keras.layers import Dense\n",
    "from keras.layers import LSTM\n",
    "from keras.layers import Embedding\n",
    "lagu = pd.read_csv(\"song_df_indo.csv\",encoding=\"latin\")"
   ]
  },
  {
   "cell_type": "code",
   "execution_count": 2,
   "metadata": {},
   "outputs": [],
   "source": [
    "def clean_doc(doc):\n",
    "    doc = doc.replace(\"–\",\" \")\n",
    "    doc = doc.lower()\n",
    "    doc = re.sub('[^a-z ]+', '', doc)\n",
    "    doc = re.sub('back to reff','', doc)\n",
    "    tokens = doc.split()\n",
    "    table = str.maketrans('', '', string.punctuation)\n",
    "    tokens = [w.translate(table) for w in tokens]\n",
    "    tokens = [word.lower() for word in tokens]\n",
    "    return tokens"
   ]
  },
  {
   "cell_type": "code",
   "execution_count": 3,
   "metadata": {},
   "outputs": [
    {
     "data": {
      "text/html": [
       "<div>\n",
       "<style scoped>\n",
       "    .dataframe tbody tr th:only-of-type {\n",
       "        vertical-align: middle;\n",
       "    }\n",
       "\n",
       "    .dataframe tbody tr th {\n",
       "        vertical-align: top;\n",
       "    }\n",
       "\n",
       "    .dataframe thead th {\n",
       "        text-align: right;\n",
       "    }\n",
       "</style>\n",
       "<table border=\"1\" class=\"dataframe\">\n",
       "  <thead>\n",
       "    <tr style=\"text-align: right;\">\n",
       "      <th></th>\n",
       "      <th>Unnamed: 0</th>\n",
       "      <th>id</th>\n",
       "      <th>judul</th>\n",
       "      <th>penyanyi</th>\n",
       "      <th>link</th>\n",
       "      <th>lirik</th>\n",
       "      <th>lang</th>\n",
       "    </tr>\n",
       "  </thead>\n",
       "  <tbody>\n",
       "    <tr>\n",
       "      <th>0</th>\n",
       "      <td>8</td>\n",
       "      <td>9</td>\n",
       "      <td>A Lotta Love</td>\n",
       "      <td>3 Diva</td>\n",
       "      <td>https://lirik.kapanlagi.com/artis/3-diva/a-lot...</td>\n",
       "      <td>(*) IÃ¢ÂÂ¦ I, I, I, IÃ¢ÂÂ¦ Need A Lotta Love...</td>\n",
       "      <td>id</td>\n",
       "    </tr>\n",
       "    <tr>\n",
       "      <th>1</th>\n",
       "      <td>10</td>\n",
       "      <td>11</td>\n",
       "      <td>A Minor</td>\n",
       "      <td>Kaneshiba</td>\n",
       "      <td>https://lirik.kapanlagi.com/artis/kaneshiba/a-...</td>\n",
       "      <td>Dari A minor Pindahnya ke D minor Masuk kunci ...</td>\n",
       "      <td>id</td>\n",
       "    </tr>\n",
       "    <tr>\n",
       "      <th>2</th>\n",
       "      <td>11</td>\n",
       "      <td>12</td>\n",
       "      <td>A N G</td>\n",
       "      <td>Naff</td>\n",
       "      <td>https://lirik.kapanlagi.com/artis/naff/a-n-g/</td>\n",
       "      <td>NAFF - A.N.G Seluruh hati tlah kudatangi Hanya...</td>\n",
       "      <td>id</td>\n",
       "    </tr>\n",
       "    <tr>\n",
       "      <th>3</th>\n",
       "      <td>17</td>\n",
       "      <td>18</td>\n",
       "      <td>A S A</td>\n",
       "      <td>Arwana</td>\n",
       "      <td>https://lirik.kapanlagi.com/artis/arwana/a-s-a/</td>\n",
       "      <td>Dalam malam kucoba mengerti Tentang luka yang ...</td>\n",
       "      <td>id</td>\n",
       "    </tr>\n",
       "    <tr>\n",
       "      <th>4</th>\n",
       "      <td>20</td>\n",
       "      <td>21</td>\n",
       "      <td>A Tribute To Maia</td>\n",
       "      <td>Tha Law</td>\n",
       "      <td>https://lirik.kapanlagi.com/artis/tha-law/a-tr...</td>\n",
       "      <td>Now throw ur hand in the air buat duo Maia Jar...</td>\n",
       "      <td>id</td>\n",
       "    </tr>\n",
       "  </tbody>\n",
       "</table>\n",
       "</div>"
      ],
      "text/plain": [
       "   Unnamed: 0  id              judul   penyanyi  \\\n",
       "0           8   9       A Lotta Love     3 Diva   \n",
       "1          10  11            A Minor  Kaneshiba   \n",
       "2          11  12              A N G       Naff   \n",
       "3          17  18              A S A     Arwana   \n",
       "4          20  21  A Tribute To Maia    Tha Law   \n",
       "\n",
       "                                                link  \\\n",
       "0  https://lirik.kapanlagi.com/artis/3-diva/a-lot...   \n",
       "1  https://lirik.kapanlagi.com/artis/kaneshiba/a-...   \n",
       "2      https://lirik.kapanlagi.com/artis/naff/a-n-g/   \n",
       "3    https://lirik.kapanlagi.com/artis/arwana/a-s-a/   \n",
       "4  https://lirik.kapanlagi.com/artis/tha-law/a-tr...   \n",
       "\n",
       "                                               lirik lang  \n",
       "0  (*) IÃ¢ÂÂ¦ I, I, I, IÃ¢ÂÂ¦ Need A Lotta Love...   id  \n",
       "1  Dari A minor Pindahnya ke D minor Masuk kunci ...   id  \n",
       "2  NAFF - A.N.G Seluruh hati tlah kudatangi Hanya...   id  \n",
       "3  Dalam malam kucoba mengerti Tentang luka yang ...   id  \n",
       "4  Now throw ur hand in the air buat duo Maia Jar...   id  "
      ]
     },
     "execution_count": 3,
     "metadata": {},
     "output_type": "execute_result"
    }
   ],
   "source": [
    "lagu.head()"
   ]
  },
  {
   "cell_type": "code",
   "execution_count": 4,
   "metadata": {},
   "outputs": [],
   "source": [
    "lagu[\"tokens\"] = lagu[\"lirik\"].apply(clean_doc)"
   ]
  },
  {
   "cell_type": "code",
   "execution_count": 5,
   "metadata": {},
   "outputs": [
    {
     "data": {
      "text/html": [
       "<div>\n",
       "<style scoped>\n",
       "    .dataframe tbody tr th:only-of-type {\n",
       "        vertical-align: middle;\n",
       "    }\n",
       "\n",
       "    .dataframe tbody tr th {\n",
       "        vertical-align: top;\n",
       "    }\n",
       "\n",
       "    .dataframe thead th {\n",
       "        text-align: right;\n",
       "    }\n",
       "</style>\n",
       "<table border=\"1\" class=\"dataframe\">\n",
       "  <thead>\n",
       "    <tr style=\"text-align: right;\">\n",
       "      <th></th>\n",
       "      <th>Unnamed: 0</th>\n",
       "      <th>id</th>\n",
       "      <th>judul</th>\n",
       "      <th>penyanyi</th>\n",
       "      <th>link</th>\n",
       "      <th>lirik</th>\n",
       "      <th>lang</th>\n",
       "      <th>tokens</th>\n",
       "    </tr>\n",
       "  </thead>\n",
       "  <tbody>\n",
       "    <tr>\n",
       "      <th>0</th>\n",
       "      <td>8</td>\n",
       "      <td>9</td>\n",
       "      <td>A Lotta Love</td>\n",
       "      <td>3 Diva</td>\n",
       "      <td>https://lirik.kapanlagi.com/artis/3-diva/a-lot...</td>\n",
       "      <td>(*) IÃ¢ÂÂ¦ I, I, I, IÃ¢ÂÂ¦ Need A Lotta Love...</td>\n",
       "      <td>id</td>\n",
       "      <td>[i, i, i, i, i, need, a, lotta, love, you, you...</td>\n",
       "    </tr>\n",
       "    <tr>\n",
       "      <th>1</th>\n",
       "      <td>10</td>\n",
       "      <td>11</td>\n",
       "      <td>A Minor</td>\n",
       "      <td>Kaneshiba</td>\n",
       "      <td>https://lirik.kapanlagi.com/artis/kaneshiba/a-...</td>\n",
       "      <td>Dari A minor Pindahnya ke D minor Masuk kunci ...</td>\n",
       "      <td>id</td>\n",
       "      <td>[dari, a, minor, pindahnya, ke, d, minor, masu...</td>\n",
       "    </tr>\n",
       "    <tr>\n",
       "      <th>2</th>\n",
       "      <td>11</td>\n",
       "      <td>12</td>\n",
       "      <td>A N G</td>\n",
       "      <td>Naff</td>\n",
       "      <td>https://lirik.kapanlagi.com/artis/naff/a-n-g/</td>\n",
       "      <td>NAFF - A.N.G Seluruh hati tlah kudatangi Hanya...</td>\n",
       "      <td>id</td>\n",
       "      <td>[naff, ang, seluruh, hati, tlah, kudatangi, ha...</td>\n",
       "    </tr>\n",
       "    <tr>\n",
       "      <th>3</th>\n",
       "      <td>17</td>\n",
       "      <td>18</td>\n",
       "      <td>A S A</td>\n",
       "      <td>Arwana</td>\n",
       "      <td>https://lirik.kapanlagi.com/artis/arwana/a-s-a/</td>\n",
       "      <td>Dalam malam kucoba mengerti Tentang luka yang ...</td>\n",
       "      <td>id</td>\n",
       "      <td>[dalam, malam, kucoba, mengerti, tentang, luka...</td>\n",
       "    </tr>\n",
       "    <tr>\n",
       "      <th>4</th>\n",
       "      <td>20</td>\n",
       "      <td>21</td>\n",
       "      <td>A Tribute To Maia</td>\n",
       "      <td>Tha Law</td>\n",
       "      <td>https://lirik.kapanlagi.com/artis/tha-law/a-tr...</td>\n",
       "      <td>Now throw ur hand in the air buat duo Maia Jar...</td>\n",
       "      <td>id</td>\n",
       "      <td>[now, throw, ur, hand, in, the, air, buat, duo...</td>\n",
       "    </tr>\n",
       "  </tbody>\n",
       "</table>\n",
       "</div>"
      ],
      "text/plain": [
       "   Unnamed: 0  id              judul   penyanyi  \\\n",
       "0           8   9       A Lotta Love     3 Diva   \n",
       "1          10  11            A Minor  Kaneshiba   \n",
       "2          11  12              A N G       Naff   \n",
       "3          17  18              A S A     Arwana   \n",
       "4          20  21  A Tribute To Maia    Tha Law   \n",
       "\n",
       "                                                link  \\\n",
       "0  https://lirik.kapanlagi.com/artis/3-diva/a-lot...   \n",
       "1  https://lirik.kapanlagi.com/artis/kaneshiba/a-...   \n",
       "2      https://lirik.kapanlagi.com/artis/naff/a-n-g/   \n",
       "3    https://lirik.kapanlagi.com/artis/arwana/a-s-a/   \n",
       "4  https://lirik.kapanlagi.com/artis/tha-law/a-tr...   \n",
       "\n",
       "                                               lirik lang  \\\n",
       "0  (*) IÃ¢ÂÂ¦ I, I, I, IÃ¢ÂÂ¦ Need A Lotta Love...   id   \n",
       "1  Dari A minor Pindahnya ke D minor Masuk kunci ...   id   \n",
       "2  NAFF - A.N.G Seluruh hati tlah kudatangi Hanya...   id   \n",
       "3  Dalam malam kucoba mengerti Tentang luka yang ...   id   \n",
       "4  Now throw ur hand in the air buat duo Maia Jar...   id   \n",
       "\n",
       "                                              tokens  \n",
       "0  [i, i, i, i, i, need, a, lotta, love, you, you...  \n",
       "1  [dari, a, minor, pindahnya, ke, d, minor, masu...  \n",
       "2  [naff, ang, seluruh, hati, tlah, kudatangi, ha...  \n",
       "3  [dalam, malam, kucoba, mengerti, tentang, luka...  \n",
       "4  [now, throw, ur, hand, in, the, air, buat, duo...  "
      ]
     },
     "execution_count": 5,
     "metadata": {},
     "output_type": "execute_result"
    }
   ],
   "source": [
    "lagu.head()"
   ]
  },
  {
   "cell_type": "code",
   "execution_count": 6,
   "metadata": {},
   "outputs": [],
   "source": [
    "# organize into sequences of tokens\n",
    "def create_seq(tokens):\n",
    "    length = 20 + 1\n",
    "    sequences = list()\n",
    "    for i in range(length, len(tokens)):\n",
    "        # select sequence of tokens\n",
    "        seq = tokens[i-length:i]\n",
    "        # convert into a line\n",
    "        line = ' '.join(seq)\n",
    "        # store\n",
    "        sequences.append(line)\n",
    "    return sequences"
   ]
  },
  {
   "cell_type": "code",
   "execution_count": 7,
   "metadata": {},
   "outputs": [],
   "source": [
    "lagu[\"sequences\"] = lagu[\"tokens\"].apply(create_seq)"
   ]
  },
  {
   "cell_type": "code",
   "execution_count": 8,
   "metadata": {},
   "outputs": [
    {
     "data": {
      "text/html": [
       "<div>\n",
       "<style scoped>\n",
       "    .dataframe tbody tr th:only-of-type {\n",
       "        vertical-align: middle;\n",
       "    }\n",
       "\n",
       "    .dataframe tbody tr th {\n",
       "        vertical-align: top;\n",
       "    }\n",
       "\n",
       "    .dataframe thead th {\n",
       "        text-align: right;\n",
       "    }\n",
       "</style>\n",
       "<table border=\"1\" class=\"dataframe\">\n",
       "  <thead>\n",
       "    <tr style=\"text-align: right;\">\n",
       "      <th></th>\n",
       "      <th>Unnamed: 0</th>\n",
       "      <th>id</th>\n",
       "      <th>judul</th>\n",
       "      <th>penyanyi</th>\n",
       "      <th>link</th>\n",
       "      <th>lirik</th>\n",
       "      <th>lang</th>\n",
       "      <th>tokens</th>\n",
       "      <th>sequences</th>\n",
       "    </tr>\n",
       "  </thead>\n",
       "  <tbody>\n",
       "    <tr>\n",
       "      <th>0</th>\n",
       "      <td>8</td>\n",
       "      <td>9</td>\n",
       "      <td>A Lotta Love</td>\n",
       "      <td>3 Diva</td>\n",
       "      <td>https://lirik.kapanlagi.com/artis/3-diva/a-lot...</td>\n",
       "      <td>(*) IÃ¢ÂÂ¦ I, I, I, IÃ¢ÂÂ¦ Need A Lotta Love...</td>\n",
       "      <td>id</td>\n",
       "      <td>[i, i, i, i, i, need, a, lotta, love, you, you...</td>\n",
       "      <td>[i i i i i need a lotta love you you you you y...</td>\n",
       "    </tr>\n",
       "    <tr>\n",
       "      <th>1</th>\n",
       "      <td>10</td>\n",
       "      <td>11</td>\n",
       "      <td>A Minor</td>\n",
       "      <td>Kaneshiba</td>\n",
       "      <td>https://lirik.kapanlagi.com/artis/kaneshiba/a-...</td>\n",
       "      <td>Dari A minor Pindahnya ke D minor Masuk kunci ...</td>\n",
       "      <td>id</td>\n",
       "      <td>[dari, a, minor, pindahnya, ke, d, minor, masu...</td>\n",
       "      <td>[dari a minor pindahnya ke d minor masuk kunci...</td>\n",
       "    </tr>\n",
       "    <tr>\n",
       "      <th>2</th>\n",
       "      <td>11</td>\n",
       "      <td>12</td>\n",
       "      <td>A N G</td>\n",
       "      <td>Naff</td>\n",
       "      <td>https://lirik.kapanlagi.com/artis/naff/a-n-g/</td>\n",
       "      <td>NAFF - A.N.G Seluruh hati tlah kudatangi Hanya...</td>\n",
       "      <td>id</td>\n",
       "      <td>[naff, ang, seluruh, hati, tlah, kudatangi, ha...</td>\n",
       "      <td>[naff ang seluruh hati tlah kudatangi hanya ha...</td>\n",
       "    </tr>\n",
       "    <tr>\n",
       "      <th>3</th>\n",
       "      <td>17</td>\n",
       "      <td>18</td>\n",
       "      <td>A S A</td>\n",
       "      <td>Arwana</td>\n",
       "      <td>https://lirik.kapanlagi.com/artis/arwana/a-s-a/</td>\n",
       "      <td>Dalam malam kucoba mengerti Tentang luka yang ...</td>\n",
       "      <td>id</td>\n",
       "      <td>[dalam, malam, kucoba, mengerti, tentang, luka...</td>\n",
       "      <td>[dalam malam kucoba mengerti tentang luka yang...</td>\n",
       "    </tr>\n",
       "    <tr>\n",
       "      <th>4</th>\n",
       "      <td>20</td>\n",
       "      <td>21</td>\n",
       "      <td>A Tribute To Maia</td>\n",
       "      <td>Tha Law</td>\n",
       "      <td>https://lirik.kapanlagi.com/artis/tha-law/a-tr...</td>\n",
       "      <td>Now throw ur hand in the air buat duo Maia Jar...</td>\n",
       "      <td>id</td>\n",
       "      <td>[now, throw, ur, hand, in, the, air, buat, duo...</td>\n",
       "      <td>[now throw ur hand in the air buat duo maia ja...</td>\n",
       "    </tr>\n",
       "  </tbody>\n",
       "</table>\n",
       "</div>"
      ],
      "text/plain": [
       "   Unnamed: 0  id              judul   penyanyi  \\\n",
       "0           8   9       A Lotta Love     3 Diva   \n",
       "1          10  11            A Minor  Kaneshiba   \n",
       "2          11  12              A N G       Naff   \n",
       "3          17  18              A S A     Arwana   \n",
       "4          20  21  A Tribute To Maia    Tha Law   \n",
       "\n",
       "                                                link  \\\n",
       "0  https://lirik.kapanlagi.com/artis/3-diva/a-lot...   \n",
       "1  https://lirik.kapanlagi.com/artis/kaneshiba/a-...   \n",
       "2      https://lirik.kapanlagi.com/artis/naff/a-n-g/   \n",
       "3    https://lirik.kapanlagi.com/artis/arwana/a-s-a/   \n",
       "4  https://lirik.kapanlagi.com/artis/tha-law/a-tr...   \n",
       "\n",
       "                                               lirik lang  \\\n",
       "0  (*) IÃ¢ÂÂ¦ I, I, I, IÃ¢ÂÂ¦ Need A Lotta Love...   id   \n",
       "1  Dari A minor Pindahnya ke D minor Masuk kunci ...   id   \n",
       "2  NAFF - A.N.G Seluruh hati tlah kudatangi Hanya...   id   \n",
       "3  Dalam malam kucoba mengerti Tentang luka yang ...   id   \n",
       "4  Now throw ur hand in the air buat duo Maia Jar...   id   \n",
       "\n",
       "                                              tokens  \\\n",
       "0  [i, i, i, i, i, need, a, lotta, love, you, you...   \n",
       "1  [dari, a, minor, pindahnya, ke, d, minor, masu...   \n",
       "2  [naff, ang, seluruh, hati, tlah, kudatangi, ha...   \n",
       "3  [dalam, malam, kucoba, mengerti, tentang, luka...   \n",
       "4  [now, throw, ur, hand, in, the, air, buat, duo...   \n",
       "\n",
       "                                           sequences  \n",
       "0  [i i i i i need a lotta love you you you you y...  \n",
       "1  [dari a minor pindahnya ke d minor masuk kunci...  \n",
       "2  [naff ang seluruh hati tlah kudatangi hanya ha...  \n",
       "3  [dalam malam kucoba mengerti tentang luka yang...  \n",
       "4  [now throw ur hand in the air buat duo maia ja...  "
      ]
     },
     "execution_count": 8,
     "metadata": {},
     "output_type": "execute_result"
    }
   ],
   "source": [
    "lagu.head()"
   ]
  },
  {
   "cell_type": "code",
   "execution_count": 47,
   "metadata": {},
   "outputs": [],
   "source": [
    "all_sequences = []\n",
    "for seq in lagu[\"sequences\"]:\n",
    "    for i in seq:\n",
    "        all_sequences.append(i)"
   ]
  },
  {
   "cell_type": "code",
   "execution_count": 48,
   "metadata": {},
   "outputs": [],
   "source": [
    "lines = all_sequences"
   ]
  },
  {
   "cell_type": "code",
   "execution_count": 49,
   "metadata": {},
   "outputs": [],
   "source": [
    "# integer encode sequences of words\n",
    "tokenizer = Tokenizer()\n",
    "tokenizer.fit_on_texts(lines)\n",
    "sequences = tokenizer.texts_to_sequences(lines)"
   ]
  },
  {
   "cell_type": "code",
   "execution_count": 53,
   "metadata": {},
   "outputs": [],
   "source": [
    "vocab_size = len(tokenizer.word_index) + 1"
   ]
  },
  {
   "cell_type": "code",
   "execution_count": 54,
   "metadata": {},
   "outputs": [
    {
     "data": {
      "text/plain": [
       "47808"
      ]
     },
     "execution_count": 54,
     "metadata": {},
     "output_type": "execute_result"
    }
   ],
   "source": [
    "vocab_size"
   ]
  },
  {
   "cell_type": "code",
   "execution_count": 56,
   "metadata": {},
   "outputs": [],
   "source": [
    "# separate into input and output\n",
    "sequences = array(sequences)\n",
    "X, y = sequences[:,:-1], sequences[:,-1]\n",
    "y = to_categorical(y, num_classes=vocab_size)\n",
    "seq_length = X.shape[1]"
   ]
  },
  {
   "cell_type": "code",
   "execution_count": 57,
   "metadata": {},
   "outputs": [
    {
     "name": "stdout",
     "output_type": "stream",
     "text": [
      "WARNING:tensorflow:From /Library/Frameworks/Python.framework/Versions/3.6/lib/python3.6/site-packages/tensorflow/python/ops/resource_variable_ops.py:435: colocate_with (from tensorflow.python.framework.ops) is deprecated and will be removed in a future version.\n",
      "Instructions for updating:\n",
      "Colocations handled automatically by placer.\n",
      "Model: \"sequential_1\"\n",
      "_________________________________________________________________\n",
      "Layer (type)                 Output Shape              Param #   \n",
      "=================================================================\n",
      "embedding_1 (Embedding)      (None, 20, 20)            956160    \n",
      "_________________________________________________________________\n",
      "lstm_1 (LSTM)                (None, 20, 100)           48400     \n",
      "_________________________________________________________________\n",
      "lstm_2 (LSTM)                (None, 100)               80400     \n",
      "_________________________________________________________________\n",
      "dense_1 (Dense)              (None, 100)               10100     \n",
      "_________________________________________________________________\n",
      "dense_2 (Dense)              (None, 47808)             4828608   \n",
      "=================================================================\n",
      "Total params: 5,923,668\n",
      "Trainable params: 5,923,668\n",
      "Non-trainable params: 0\n",
      "_________________________________________________________________\n",
      "None\n"
     ]
    }
   ],
   "source": [
    "# define model\n",
    "model = Sequential()\n",
    "model.add(Embedding(vocab_size, 20, input_length=seq_length))\n",
    "model.add(LSTM(100, return_sequences=True))\n",
    "model.add(LSTM(100))\n",
    "model.add(Dense(100, activation='relu'))\n",
    "model.add(Dense(vocab_size, activation='softmax'))\n",
    "print(model.summary())"
   ]
  },
  {
   "cell_type": "code",
   "execution_count": 59,
   "metadata": {},
   "outputs": [
    {
     "name": "stdout",
     "output_type": "stream",
     "text": [
      "Epoch 1/5\n",
      "  84992/1144134 [=>............................] - ETA: 1:04:24 - loss: 7.7428 - accuracy: 0.0244"
     ]
    },
    {
     "ename": "KeyboardInterrupt",
     "evalue": "",
     "output_type": "error",
     "traceback": [
      "\u001b[0;31m---------------------------------------------------------------------------\u001b[0m",
      "\u001b[0;31mKeyboardInterrupt\u001b[0m                         Traceback (most recent call last)",
      "\u001b[0;32m<ipython-input-59-f4e64c4e5fe4>\u001b[0m in \u001b[0;36m<module>\u001b[0;34m\u001b[0m\n\u001b[1;32m      2\u001b[0m \u001b[0mmodel\u001b[0m\u001b[0;34m.\u001b[0m\u001b[0mcompile\u001b[0m\u001b[0;34m(\u001b[0m\u001b[0mloss\u001b[0m\u001b[0;34m=\u001b[0m\u001b[0;34m'categorical_crossentropy'\u001b[0m\u001b[0;34m,\u001b[0m \u001b[0moptimizer\u001b[0m\u001b[0;34m=\u001b[0m\u001b[0;34m'adam'\u001b[0m\u001b[0;34m,\u001b[0m \u001b[0mmetrics\u001b[0m\u001b[0;34m=\u001b[0m\u001b[0;34m[\u001b[0m\u001b[0;34m'accuracy'\u001b[0m\u001b[0;34m]\u001b[0m\u001b[0;34m)\u001b[0m\u001b[0;34m\u001b[0m\u001b[0m\n\u001b[1;32m      3\u001b[0m \u001b[0;31m# fit model\u001b[0m\u001b[0;34m\u001b[0m\u001b[0;34m\u001b[0m\u001b[0m\n\u001b[0;32m----> 4\u001b[0;31m \u001b[0mmodel\u001b[0m\u001b[0;34m.\u001b[0m\u001b[0mfit\u001b[0m\u001b[0;34m(\u001b[0m\u001b[0mX\u001b[0m\u001b[0;34m,\u001b[0m \u001b[0my\u001b[0m\u001b[0;34m,\u001b[0m \u001b[0mbatch_size\u001b[0m\u001b[0;34m=\u001b[0m\u001b[0;36m1024\u001b[0m\u001b[0;34m,\u001b[0m \u001b[0mepochs\u001b[0m\u001b[0;34m=\u001b[0m\u001b[0;36m5\u001b[0m\u001b[0;34m)\u001b[0m\u001b[0;34m\u001b[0m\u001b[0m\n\u001b[0m",
      "\u001b[0;32m/Library/Frameworks/Python.framework/Versions/3.6/lib/python3.6/site-packages/keras/engine/training.py\u001b[0m in \u001b[0;36mfit\u001b[0;34m(self, x, y, batch_size, epochs, verbose, callbacks, validation_split, validation_data, shuffle, class_weight, sample_weight, initial_epoch, steps_per_epoch, validation_steps, validation_freq, max_queue_size, workers, use_multiprocessing, **kwargs)\u001b[0m\n\u001b[1;32m   1237\u001b[0m                                         \u001b[0msteps_per_epoch\u001b[0m\u001b[0;34m=\u001b[0m\u001b[0msteps_per_epoch\u001b[0m\u001b[0;34m,\u001b[0m\u001b[0;34m\u001b[0m\u001b[0m\n\u001b[1;32m   1238\u001b[0m                                         \u001b[0mvalidation_steps\u001b[0m\u001b[0;34m=\u001b[0m\u001b[0mvalidation_steps\u001b[0m\u001b[0;34m,\u001b[0m\u001b[0;34m\u001b[0m\u001b[0m\n\u001b[0;32m-> 1239\u001b[0;31m                                         validation_freq=validation_freq)\n\u001b[0m\u001b[1;32m   1240\u001b[0m \u001b[0;34m\u001b[0m\u001b[0m\n\u001b[1;32m   1241\u001b[0m     def evaluate(self,\n",
      "\u001b[0;32m/Library/Frameworks/Python.framework/Versions/3.6/lib/python3.6/site-packages/keras/engine/training_arrays.py\u001b[0m in \u001b[0;36mfit_loop\u001b[0;34m(model, fit_function, fit_inputs, out_labels, batch_size, epochs, verbose, callbacks, val_function, val_inputs, shuffle, initial_epoch, steps_per_epoch, validation_steps, validation_freq)\u001b[0m\n\u001b[1;32m    194\u001b[0m                     \u001b[0mins_batch\u001b[0m\u001b[0;34m[\u001b[0m\u001b[0mi\u001b[0m\u001b[0;34m]\u001b[0m \u001b[0;34m=\u001b[0m \u001b[0mins_batch\u001b[0m\u001b[0;34m[\u001b[0m\u001b[0mi\u001b[0m\u001b[0;34m]\u001b[0m\u001b[0;34m.\u001b[0m\u001b[0mtoarray\u001b[0m\u001b[0;34m(\u001b[0m\u001b[0;34m)\u001b[0m\u001b[0;34m\u001b[0m\u001b[0m\n\u001b[1;32m    195\u001b[0m \u001b[0;34m\u001b[0m\u001b[0m\n\u001b[0;32m--> 196\u001b[0;31m                 \u001b[0mouts\u001b[0m \u001b[0;34m=\u001b[0m \u001b[0mfit_function\u001b[0m\u001b[0;34m(\u001b[0m\u001b[0mins_batch\u001b[0m\u001b[0;34m)\u001b[0m\u001b[0;34m\u001b[0m\u001b[0m\n\u001b[0m\u001b[1;32m    197\u001b[0m                 \u001b[0mouts\u001b[0m \u001b[0;34m=\u001b[0m \u001b[0mto_list\u001b[0m\u001b[0;34m(\u001b[0m\u001b[0mouts\u001b[0m\u001b[0;34m)\u001b[0m\u001b[0;34m\u001b[0m\u001b[0m\n\u001b[1;32m    198\u001b[0m                 \u001b[0;32mfor\u001b[0m \u001b[0ml\u001b[0m\u001b[0;34m,\u001b[0m \u001b[0mo\u001b[0m \u001b[0;32min\u001b[0m \u001b[0mzip\u001b[0m\u001b[0;34m(\u001b[0m\u001b[0mout_labels\u001b[0m\u001b[0;34m,\u001b[0m \u001b[0mouts\u001b[0m\u001b[0;34m)\u001b[0m\u001b[0;34m:\u001b[0m\u001b[0;34m\u001b[0m\u001b[0m\n",
      "\u001b[0;32m/Library/Frameworks/Python.framework/Versions/3.6/lib/python3.6/site-packages/tensorflow/python/keras/backend.py\u001b[0m in \u001b[0;36m__call__\u001b[0;34m(self, inputs)\u001b[0m\n\u001b[1;32m   3074\u001b[0m \u001b[0;34m\u001b[0m\u001b[0m\n\u001b[1;32m   3075\u001b[0m     fetched = self._callable_fn(*array_vals,\n\u001b[0;32m-> 3076\u001b[0;31m                                 run_metadata=self.run_metadata)\n\u001b[0m\u001b[1;32m   3077\u001b[0m     \u001b[0mself\u001b[0m\u001b[0;34m.\u001b[0m\u001b[0m_call_fetch_callbacks\u001b[0m\u001b[0;34m(\u001b[0m\u001b[0mfetched\u001b[0m\u001b[0;34m[\u001b[0m\u001b[0;34m-\u001b[0m\u001b[0mlen\u001b[0m\u001b[0;34m(\u001b[0m\u001b[0mself\u001b[0m\u001b[0;34m.\u001b[0m\u001b[0m_fetches\u001b[0m\u001b[0;34m)\u001b[0m\u001b[0;34m:\u001b[0m\u001b[0;34m]\u001b[0m\u001b[0;34m)\u001b[0m\u001b[0;34m\u001b[0m\u001b[0m\n\u001b[1;32m   3078\u001b[0m     return nest.pack_sequence_as(self._outputs_structure,\n",
      "\u001b[0;32m/Library/Frameworks/Python.framework/Versions/3.6/lib/python3.6/site-packages/tensorflow/python/client/session.py\u001b[0m in \u001b[0;36m__call__\u001b[0;34m(self, *args, **kwargs)\u001b[0m\n\u001b[1;32m   1437\u001b[0m           ret = tf_session.TF_SessionRunCallable(\n\u001b[1;32m   1438\u001b[0m               \u001b[0mself\u001b[0m\u001b[0;34m.\u001b[0m\u001b[0m_session\u001b[0m\u001b[0;34m.\u001b[0m\u001b[0m_session\u001b[0m\u001b[0;34m,\u001b[0m \u001b[0mself\u001b[0m\u001b[0;34m.\u001b[0m\u001b[0m_handle\u001b[0m\u001b[0;34m,\u001b[0m \u001b[0margs\u001b[0m\u001b[0;34m,\u001b[0m \u001b[0mstatus\u001b[0m\u001b[0;34m,\u001b[0m\u001b[0;34m\u001b[0m\u001b[0m\n\u001b[0;32m-> 1439\u001b[0;31m               run_metadata_ptr)\n\u001b[0m\u001b[1;32m   1440\u001b[0m         \u001b[0;32mif\u001b[0m \u001b[0mrun_metadata\u001b[0m\u001b[0;34m:\u001b[0m\u001b[0;34m\u001b[0m\u001b[0m\n\u001b[1;32m   1441\u001b[0m           \u001b[0mproto_data\u001b[0m \u001b[0;34m=\u001b[0m \u001b[0mtf_session\u001b[0m\u001b[0;34m.\u001b[0m\u001b[0mTF_GetBuffer\u001b[0m\u001b[0;34m(\u001b[0m\u001b[0mrun_metadata_ptr\u001b[0m\u001b[0;34m)\u001b[0m\u001b[0;34m\u001b[0m\u001b[0m\n",
      "\u001b[0;31mKeyboardInterrupt\u001b[0m: "
     ]
    }
   ],
   "source": [
    "# compile moder\n",
    "model.compile(loss='categorical_crossentropy', optimizer='adam', metrics=['accuracy'])\n",
    "# fit model\n",
    "model.fit(X, y, batch_size=1024, epochs=5)"
   ]
  },
  {
   "cell_type": "code",
   "execution_count": null,
   "metadata": {},
   "outputs": [],
   "source": []
  },
  {
   "cell_type": "code",
   "execution_count": null,
   "metadata": {},
   "outputs": [],
   "source": []
  }
 ],
 "metadata": {
  "kernelspec": {
   "display_name": "Python 3",
   "language": "python",
   "name": "python3"
  },
  "language_info": {
   "codemirror_mode": {
    "name": "ipython",
    "version": 3
   },
   "file_extension": ".py",
   "mimetype": "text/x-python",
   "name": "python",
   "nbconvert_exporter": "python",
   "pygments_lexer": "ipython3",
   "version": "3.6.2"
  }
 },
 "nbformat": 4,
 "nbformat_minor": 2
}
