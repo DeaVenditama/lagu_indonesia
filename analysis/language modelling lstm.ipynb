{
 "cells": [
  {
   "cell_type": "code",
   "execution_count": 17,
   "metadata": {},
   "outputs": [],
   "source": [
    "import pandas as pd\n",
    "import string\n",
    "import re\n",
    "from numpy import array\n",
    "from pickle import dump\n",
    "from keras.preprocessing.text import Tokenizer\n",
    "from keras.utils import to_categorical\n",
    "from keras.models import Sequential\n",
    "from keras.layers import Dense\n",
    "from keras.layers import LSTM\n",
    "from keras.layers import Embedding\n",
    "lagu = pd.read_csv(\"song_df_indo.csv\",encoding=\"latin\")"
   ]
  },
  {
   "cell_type": "code",
   "execution_count": 19,
   "metadata": {},
   "outputs": [],
   "source": [
    "lagu = lagu[0:1000]"
   ]
  },
  {
   "cell_type": "code",
   "execution_count": 20,
   "metadata": {},
   "outputs": [
    {
     "data": {
      "text/plain": [
       "1000"
      ]
     },
     "execution_count": 20,
     "metadata": {},
     "output_type": "execute_result"
    }
   ],
   "source": [
    "len(lagu)"
   ]
  },
  {
   "cell_type": "code",
   "execution_count": 2,
   "metadata": {},
   "outputs": [],
   "source": [
    "def clean_doc(doc):\n",
    "    doc = doc.replace(\"–\",\" \")\n",
    "    doc = doc.lower()\n",
    "    doc = re.sub('[^a-z ]+', '', doc)\n",
    "    doc = re.sub('back to reff','', doc)\n",
    "    tokens = doc.split()\n",
    "    table = str.maketrans('', '', string.punctuation)\n",
    "    tokens = [w.translate(table) for w in tokens]\n",
    "    tokens = [word.lower() for word in tokens]\n",
    "    return tokens"
   ]
  },
  {
   "cell_type": "code",
   "execution_count": 3,
   "metadata": {},
   "outputs": [
    {
     "data": {
      "text/html": [
       "<div>\n",
       "<style scoped>\n",
       "    .dataframe tbody tr th:only-of-type {\n",
       "        vertical-align: middle;\n",
       "    }\n",
       "\n",
       "    .dataframe tbody tr th {\n",
       "        vertical-align: top;\n",
       "    }\n",
       "\n",
       "    .dataframe thead th {\n",
       "        text-align: right;\n",
       "    }\n",
       "</style>\n",
       "<table border=\"1\" class=\"dataframe\">\n",
       "  <thead>\n",
       "    <tr style=\"text-align: right;\">\n",
       "      <th></th>\n",
       "      <th>Unnamed: 0</th>\n",
       "      <th>id</th>\n",
       "      <th>judul</th>\n",
       "      <th>penyanyi</th>\n",
       "      <th>link</th>\n",
       "      <th>lirik</th>\n",
       "      <th>lang</th>\n",
       "    </tr>\n",
       "  </thead>\n",
       "  <tbody>\n",
       "    <tr>\n",
       "      <th>0</th>\n",
       "      <td>8</td>\n",
       "      <td>9</td>\n",
       "      <td>A Lotta Love</td>\n",
       "      <td>3 Diva</td>\n",
       "      <td>https://lirik.kapanlagi.com/artis/3-diva/a-lot...</td>\n",
       "      <td>(*) IÃ¢ÂÂ¦ I, I, I, IÃ¢ÂÂ¦ Need A Lotta Love...</td>\n",
       "      <td>id</td>\n",
       "    </tr>\n",
       "    <tr>\n",
       "      <th>1</th>\n",
       "      <td>10</td>\n",
       "      <td>11</td>\n",
       "      <td>A Minor</td>\n",
       "      <td>Kaneshiba</td>\n",
       "      <td>https://lirik.kapanlagi.com/artis/kaneshiba/a-...</td>\n",
       "      <td>Dari A minor Pindahnya ke D minor Masuk kunci ...</td>\n",
       "      <td>id</td>\n",
       "    </tr>\n",
       "    <tr>\n",
       "      <th>2</th>\n",
       "      <td>11</td>\n",
       "      <td>12</td>\n",
       "      <td>A N G</td>\n",
       "      <td>Naff</td>\n",
       "      <td>https://lirik.kapanlagi.com/artis/naff/a-n-g/</td>\n",
       "      <td>NAFF - A.N.G Seluruh hati tlah kudatangi Hanya...</td>\n",
       "      <td>id</td>\n",
       "    </tr>\n",
       "    <tr>\n",
       "      <th>3</th>\n",
       "      <td>17</td>\n",
       "      <td>18</td>\n",
       "      <td>A S A</td>\n",
       "      <td>Arwana</td>\n",
       "      <td>https://lirik.kapanlagi.com/artis/arwana/a-s-a/</td>\n",
       "      <td>Dalam malam kucoba mengerti Tentang luka yang ...</td>\n",
       "      <td>id</td>\n",
       "    </tr>\n",
       "    <tr>\n",
       "      <th>4</th>\n",
       "      <td>20</td>\n",
       "      <td>21</td>\n",
       "      <td>A Tribute To Maia</td>\n",
       "      <td>Tha Law</td>\n",
       "      <td>https://lirik.kapanlagi.com/artis/tha-law/a-tr...</td>\n",
       "      <td>Now throw ur hand in the air buat duo Maia Jar...</td>\n",
       "      <td>id</td>\n",
       "    </tr>\n",
       "  </tbody>\n",
       "</table>\n",
       "</div>"
      ],
      "text/plain": [
       "   Unnamed: 0  id              judul   penyanyi  \\\n",
       "0           8   9       A Lotta Love     3 Diva   \n",
       "1          10  11            A Minor  Kaneshiba   \n",
       "2          11  12              A N G       Naff   \n",
       "3          17  18              A S A     Arwana   \n",
       "4          20  21  A Tribute To Maia    Tha Law   \n",
       "\n",
       "                                                link  \\\n",
       "0  https://lirik.kapanlagi.com/artis/3-diva/a-lot...   \n",
       "1  https://lirik.kapanlagi.com/artis/kaneshiba/a-...   \n",
       "2      https://lirik.kapanlagi.com/artis/naff/a-n-g/   \n",
       "3    https://lirik.kapanlagi.com/artis/arwana/a-s-a/   \n",
       "4  https://lirik.kapanlagi.com/artis/tha-law/a-tr...   \n",
       "\n",
       "                                               lirik lang  \n",
       "0  (*) IÃ¢ÂÂ¦ I, I, I, IÃ¢ÂÂ¦ Need A Lotta Love...   id  \n",
       "1  Dari A minor Pindahnya ke D minor Masuk kunci ...   id  \n",
       "2  NAFF - A.N.G Seluruh hati tlah kudatangi Hanya...   id  \n",
       "3  Dalam malam kucoba mengerti Tentang luka yang ...   id  \n",
       "4  Now throw ur hand in the air buat duo Maia Jar...   id  "
      ]
     },
     "execution_count": 3,
     "metadata": {},
     "output_type": "execute_result"
    }
   ],
   "source": [
    "lagu.head()"
   ]
  },
  {
   "cell_type": "code",
   "execution_count": 4,
   "metadata": {},
   "outputs": [],
   "source": [
    "lagu[\"tokens\"] = lagu[\"lirik\"].apply(clean_doc)"
   ]
  },
  {
   "cell_type": "code",
   "execution_count": 5,
   "metadata": {},
   "outputs": [
    {
     "data": {
      "text/html": [
       "<div>\n",
       "<style scoped>\n",
       "    .dataframe tbody tr th:only-of-type {\n",
       "        vertical-align: middle;\n",
       "    }\n",
       "\n",
       "    .dataframe tbody tr th {\n",
       "        vertical-align: top;\n",
       "    }\n",
       "\n",
       "    .dataframe thead th {\n",
       "        text-align: right;\n",
       "    }\n",
       "</style>\n",
       "<table border=\"1\" class=\"dataframe\">\n",
       "  <thead>\n",
       "    <tr style=\"text-align: right;\">\n",
       "      <th></th>\n",
       "      <th>Unnamed: 0</th>\n",
       "      <th>id</th>\n",
       "      <th>judul</th>\n",
       "      <th>penyanyi</th>\n",
       "      <th>link</th>\n",
       "      <th>lirik</th>\n",
       "      <th>lang</th>\n",
       "      <th>tokens</th>\n",
       "    </tr>\n",
       "  </thead>\n",
       "  <tbody>\n",
       "    <tr>\n",
       "      <th>0</th>\n",
       "      <td>8</td>\n",
       "      <td>9</td>\n",
       "      <td>A Lotta Love</td>\n",
       "      <td>3 Diva</td>\n",
       "      <td>https://lirik.kapanlagi.com/artis/3-diva/a-lot...</td>\n",
       "      <td>(*) IÃ¢ÂÂ¦ I, I, I, IÃ¢ÂÂ¦ Need A Lotta Love...</td>\n",
       "      <td>id</td>\n",
       "      <td>[i, i, i, i, i, need, a, lotta, love, you, you...</td>\n",
       "    </tr>\n",
       "    <tr>\n",
       "      <th>1</th>\n",
       "      <td>10</td>\n",
       "      <td>11</td>\n",
       "      <td>A Minor</td>\n",
       "      <td>Kaneshiba</td>\n",
       "      <td>https://lirik.kapanlagi.com/artis/kaneshiba/a-...</td>\n",
       "      <td>Dari A minor Pindahnya ke D minor Masuk kunci ...</td>\n",
       "      <td>id</td>\n",
       "      <td>[dari, a, minor, pindahnya, ke, d, minor, masu...</td>\n",
       "    </tr>\n",
       "    <tr>\n",
       "      <th>2</th>\n",
       "      <td>11</td>\n",
       "      <td>12</td>\n",
       "      <td>A N G</td>\n",
       "      <td>Naff</td>\n",
       "      <td>https://lirik.kapanlagi.com/artis/naff/a-n-g/</td>\n",
       "      <td>NAFF - A.N.G Seluruh hati tlah kudatangi Hanya...</td>\n",
       "      <td>id</td>\n",
       "      <td>[naff, ang, seluruh, hati, tlah, kudatangi, ha...</td>\n",
       "    </tr>\n",
       "    <tr>\n",
       "      <th>3</th>\n",
       "      <td>17</td>\n",
       "      <td>18</td>\n",
       "      <td>A S A</td>\n",
       "      <td>Arwana</td>\n",
       "      <td>https://lirik.kapanlagi.com/artis/arwana/a-s-a/</td>\n",
       "      <td>Dalam malam kucoba mengerti Tentang luka yang ...</td>\n",
       "      <td>id</td>\n",
       "      <td>[dalam, malam, kucoba, mengerti, tentang, luka...</td>\n",
       "    </tr>\n",
       "    <tr>\n",
       "      <th>4</th>\n",
       "      <td>20</td>\n",
       "      <td>21</td>\n",
       "      <td>A Tribute To Maia</td>\n",
       "      <td>Tha Law</td>\n",
       "      <td>https://lirik.kapanlagi.com/artis/tha-law/a-tr...</td>\n",
       "      <td>Now throw ur hand in the air buat duo Maia Jar...</td>\n",
       "      <td>id</td>\n",
       "      <td>[now, throw, ur, hand, in, the, air, buat, duo...</td>\n",
       "    </tr>\n",
       "  </tbody>\n",
       "</table>\n",
       "</div>"
      ],
      "text/plain": [
       "   Unnamed: 0  id              judul   penyanyi  \\\n",
       "0           8   9       A Lotta Love     3 Diva   \n",
       "1          10  11            A Minor  Kaneshiba   \n",
       "2          11  12              A N G       Naff   \n",
       "3          17  18              A S A     Arwana   \n",
       "4          20  21  A Tribute To Maia    Tha Law   \n",
       "\n",
       "                                                link  \\\n",
       "0  https://lirik.kapanlagi.com/artis/3-diva/a-lot...   \n",
       "1  https://lirik.kapanlagi.com/artis/kaneshiba/a-...   \n",
       "2      https://lirik.kapanlagi.com/artis/naff/a-n-g/   \n",
       "3    https://lirik.kapanlagi.com/artis/arwana/a-s-a/   \n",
       "4  https://lirik.kapanlagi.com/artis/tha-law/a-tr...   \n",
       "\n",
       "                                               lirik lang  \\\n",
       "0  (*) IÃ¢ÂÂ¦ I, I, I, IÃ¢ÂÂ¦ Need A Lotta Love...   id   \n",
       "1  Dari A minor Pindahnya ke D minor Masuk kunci ...   id   \n",
       "2  NAFF - A.N.G Seluruh hati tlah kudatangi Hanya...   id   \n",
       "3  Dalam malam kucoba mengerti Tentang luka yang ...   id   \n",
       "4  Now throw ur hand in the air buat duo Maia Jar...   id   \n",
       "\n",
       "                                              tokens  \n",
       "0  [i, i, i, i, i, need, a, lotta, love, you, you...  \n",
       "1  [dari, a, minor, pindahnya, ke, d, minor, masu...  \n",
       "2  [naff, ang, seluruh, hati, tlah, kudatangi, ha...  \n",
       "3  [dalam, malam, kucoba, mengerti, tentang, luka...  \n",
       "4  [now, throw, ur, hand, in, the, air, buat, duo...  "
      ]
     },
     "execution_count": 5,
     "metadata": {},
     "output_type": "execute_result"
    }
   ],
   "source": [
    "lagu.head()"
   ]
  },
  {
   "cell_type": "code",
   "execution_count": 6,
   "metadata": {},
   "outputs": [],
   "source": [
    "# organize into sequences of tokens\n",
    "def create_seq(tokens):\n",
    "    length = 20 + 1\n",
    "    sequences = list()\n",
    "    for i in range(length, len(tokens)):\n",
    "        # select sequence of tokens\n",
    "        seq = tokens[i-length:i]\n",
    "        # convert into a line\n",
    "        line = ' '.join(seq)\n",
    "        # store\n",
    "        sequences.append(line)\n",
    "    return sequences"
   ]
  },
  {
   "cell_type": "code",
   "execution_count": 7,
   "metadata": {},
   "outputs": [],
   "source": [
    "lagu[\"sequences\"] = lagu[\"tokens\"].apply(create_seq)"
   ]
  },
  {
   "cell_type": "code",
   "execution_count": 8,
   "metadata": {},
   "outputs": [
    {
     "data": {
      "text/html": [
       "<div>\n",
       "<style scoped>\n",
       "    .dataframe tbody tr th:only-of-type {\n",
       "        vertical-align: middle;\n",
       "    }\n",
       "\n",
       "    .dataframe tbody tr th {\n",
       "        vertical-align: top;\n",
       "    }\n",
       "\n",
       "    .dataframe thead th {\n",
       "        text-align: right;\n",
       "    }\n",
       "</style>\n",
       "<table border=\"1\" class=\"dataframe\">\n",
       "  <thead>\n",
       "    <tr style=\"text-align: right;\">\n",
       "      <th></th>\n",
       "      <th>Unnamed: 0</th>\n",
       "      <th>id</th>\n",
       "      <th>judul</th>\n",
       "      <th>penyanyi</th>\n",
       "      <th>link</th>\n",
       "      <th>lirik</th>\n",
       "      <th>lang</th>\n",
       "      <th>tokens</th>\n",
       "      <th>sequences</th>\n",
       "    </tr>\n",
       "  </thead>\n",
       "  <tbody>\n",
       "    <tr>\n",
       "      <th>0</th>\n",
       "      <td>8</td>\n",
       "      <td>9</td>\n",
       "      <td>A Lotta Love</td>\n",
       "      <td>3 Diva</td>\n",
       "      <td>https://lirik.kapanlagi.com/artis/3-diva/a-lot...</td>\n",
       "      <td>(*) IÃ¢ÂÂ¦ I, I, I, IÃ¢ÂÂ¦ Need A Lotta Love...</td>\n",
       "      <td>id</td>\n",
       "      <td>[i, i, i, i, i, need, a, lotta, love, you, you...</td>\n",
       "      <td>[i i i i i need a lotta love you you you you y...</td>\n",
       "    </tr>\n",
       "    <tr>\n",
       "      <th>1</th>\n",
       "      <td>10</td>\n",
       "      <td>11</td>\n",
       "      <td>A Minor</td>\n",
       "      <td>Kaneshiba</td>\n",
       "      <td>https://lirik.kapanlagi.com/artis/kaneshiba/a-...</td>\n",
       "      <td>Dari A minor Pindahnya ke D minor Masuk kunci ...</td>\n",
       "      <td>id</td>\n",
       "      <td>[dari, a, minor, pindahnya, ke, d, minor, masu...</td>\n",
       "      <td>[dari a minor pindahnya ke d minor masuk kunci...</td>\n",
       "    </tr>\n",
       "    <tr>\n",
       "      <th>2</th>\n",
       "      <td>11</td>\n",
       "      <td>12</td>\n",
       "      <td>A N G</td>\n",
       "      <td>Naff</td>\n",
       "      <td>https://lirik.kapanlagi.com/artis/naff/a-n-g/</td>\n",
       "      <td>NAFF - A.N.G Seluruh hati tlah kudatangi Hanya...</td>\n",
       "      <td>id</td>\n",
       "      <td>[naff, ang, seluruh, hati, tlah, kudatangi, ha...</td>\n",
       "      <td>[naff ang seluruh hati tlah kudatangi hanya ha...</td>\n",
       "    </tr>\n",
       "    <tr>\n",
       "      <th>3</th>\n",
       "      <td>17</td>\n",
       "      <td>18</td>\n",
       "      <td>A S A</td>\n",
       "      <td>Arwana</td>\n",
       "      <td>https://lirik.kapanlagi.com/artis/arwana/a-s-a/</td>\n",
       "      <td>Dalam malam kucoba mengerti Tentang luka yang ...</td>\n",
       "      <td>id</td>\n",
       "      <td>[dalam, malam, kucoba, mengerti, tentang, luka...</td>\n",
       "      <td>[dalam malam kucoba mengerti tentang luka yang...</td>\n",
       "    </tr>\n",
       "    <tr>\n",
       "      <th>4</th>\n",
       "      <td>20</td>\n",
       "      <td>21</td>\n",
       "      <td>A Tribute To Maia</td>\n",
       "      <td>Tha Law</td>\n",
       "      <td>https://lirik.kapanlagi.com/artis/tha-law/a-tr...</td>\n",
       "      <td>Now throw ur hand in the air buat duo Maia Jar...</td>\n",
       "      <td>id</td>\n",
       "      <td>[now, throw, ur, hand, in, the, air, buat, duo...</td>\n",
       "      <td>[now throw ur hand in the air buat duo maia ja...</td>\n",
       "    </tr>\n",
       "  </tbody>\n",
       "</table>\n",
       "</div>"
      ],
      "text/plain": [
       "   Unnamed: 0  id              judul   penyanyi  \\\n",
       "0           8   9       A Lotta Love     3 Diva   \n",
       "1          10  11            A Minor  Kaneshiba   \n",
       "2          11  12              A N G       Naff   \n",
       "3          17  18              A S A     Arwana   \n",
       "4          20  21  A Tribute To Maia    Tha Law   \n",
       "\n",
       "                                                link  \\\n",
       "0  https://lirik.kapanlagi.com/artis/3-diva/a-lot...   \n",
       "1  https://lirik.kapanlagi.com/artis/kaneshiba/a-...   \n",
       "2      https://lirik.kapanlagi.com/artis/naff/a-n-g/   \n",
       "3    https://lirik.kapanlagi.com/artis/arwana/a-s-a/   \n",
       "4  https://lirik.kapanlagi.com/artis/tha-law/a-tr...   \n",
       "\n",
       "                                               lirik lang  \\\n",
       "0  (*) IÃ¢ÂÂ¦ I, I, I, IÃ¢ÂÂ¦ Need A Lotta Love...   id   \n",
       "1  Dari A minor Pindahnya ke D minor Masuk kunci ...   id   \n",
       "2  NAFF - A.N.G Seluruh hati tlah kudatangi Hanya...   id   \n",
       "3  Dalam malam kucoba mengerti Tentang luka yang ...   id   \n",
       "4  Now throw ur hand in the air buat duo Maia Jar...   id   \n",
       "\n",
       "                                              tokens  \\\n",
       "0  [i, i, i, i, i, need, a, lotta, love, you, you...   \n",
       "1  [dari, a, minor, pindahnya, ke, d, minor, masu...   \n",
       "2  [naff, ang, seluruh, hati, tlah, kudatangi, ha...   \n",
       "3  [dalam, malam, kucoba, mengerti, tentang, luka...   \n",
       "4  [now, throw, ur, hand, in, the, air, buat, duo...   \n",
       "\n",
       "                                           sequences  \n",
       "0  [i i i i i need a lotta love you you you you y...  \n",
       "1  [dari a minor pindahnya ke d minor masuk kunci...  \n",
       "2  [naff ang seluruh hati tlah kudatangi hanya ha...  \n",
       "3  [dalam malam kucoba mengerti tentang luka yang...  \n",
       "4  [now throw ur hand in the air buat duo maia ja...  "
      ]
     },
     "execution_count": 8,
     "metadata": {},
     "output_type": "execute_result"
    }
   ],
   "source": [
    "lagu.head()"
   ]
  },
  {
   "cell_type": "code",
   "execution_count": 9,
   "metadata": {},
   "outputs": [],
   "source": [
    "all_sequences = []\n",
    "for seq in lagu[\"sequences\"]:\n",
    "    for i in seq:\n",
    "        all_sequences.append(i)"
   ]
  },
  {
   "cell_type": "code",
   "execution_count": 10,
   "metadata": {},
   "outputs": [],
   "source": [
    "lines = all_sequences"
   ]
  },
  {
   "cell_type": "code",
   "execution_count": 11,
   "metadata": {},
   "outputs": [],
   "source": [
    "# integer encode sequences of words\n",
    "tokenizer = Tokenizer()\n",
    "tokenizer.fit_on_texts(lines)\n",
    "sequences = tokenizer.texts_to_sequences(lines)"
   ]
  },
  {
   "cell_type": "code",
   "execution_count": 12,
   "metadata": {},
   "outputs": [],
   "source": [
    "vocab_size = len(tokenizer.word_index) + 1"
   ]
  },
  {
   "cell_type": "code",
   "execution_count": 13,
   "metadata": {},
   "outputs": [
    {
     "data": {
      "text/plain": [
       "47808"
      ]
     },
     "execution_count": 13,
     "metadata": {},
     "output_type": "execute_result"
    }
   ],
   "source": [
    "vocab_size"
   ]
  },
  {
   "cell_type": "code",
   "execution_count": 14,
   "metadata": {},
   "outputs": [],
   "source": [
    "# separate into input and output\n",
    "sequences = array(sequences)\n",
    "X, y = sequences[:,:-1], sequences[:,-1]\n",
    "y = to_categorical(y, num_classes=vocab_size)\n",
    "seq_length = X.shape[1]"
   ]
  },
  {
   "cell_type": "code",
   "execution_count": 16,
   "metadata": {},
   "outputs": [
    {
     "name": "stderr",
     "output_type": "stream",
     "text": [
      "/Library/Frameworks/Python.framework/Versions/3.6/lib/python3.6/site-packages/sklearn/externals/joblib/__init__.py:15: FutureWarning: sklearn.externals.joblib is deprecated in 0.21 and will be removed in 0.23. Please import this functionality directly from joblib, which can be installed with: pip install joblib. If this warning is raised when loading pickled models, you may need to re-serialize those models with scikit-learn 0.21+.\n",
      "  warnings.warn(msg, category=FutureWarning)\n"
     ]
    },
    {
     "ename": "OSError",
     "evalue": "[Errno 28] No space left on device",
     "output_type": "error",
     "traceback": [
      "\u001b[0;31m---------------------------------------------------------------------------\u001b[0m",
      "\u001b[0;31mOSError\u001b[0m                                   Traceback (most recent call last)",
      "\u001b[0;32m<ipython-input-16-4a084fa1fd84>\u001b[0m in \u001b[0;36m<module>\u001b[0;34m\u001b[0m\n\u001b[1;32m      1\u001b[0m \u001b[0;32mfrom\u001b[0m \u001b[0msklearn\u001b[0m\u001b[0;34m.\u001b[0m\u001b[0mexternals\u001b[0m \u001b[0;32mimport\u001b[0m \u001b[0mjoblib\u001b[0m\u001b[0;34m\u001b[0m\u001b[0m\n\u001b[1;32m      2\u001b[0m \u001b[0mfilename\u001b[0m \u001b[0;34m=\u001b[0m \u001b[0;34m'y.sav'\u001b[0m\u001b[0;34m\u001b[0m\u001b[0m\n\u001b[0;32m----> 3\u001b[0;31m \u001b[0mjoblib\u001b[0m\u001b[0;34m.\u001b[0m\u001b[0mdump\u001b[0m\u001b[0;34m(\u001b[0m\u001b[0my\u001b[0m\u001b[0;34m,\u001b[0m \u001b[0mfilename\u001b[0m\u001b[0;34m)\u001b[0m\u001b[0;34m\u001b[0m\u001b[0m\n\u001b[0m",
      "\u001b[0;32m/Library/Frameworks/Python.framework/Versions/3.6/lib/python3.6/site-packages/joblib/numpy_pickle.py\u001b[0m in \u001b[0;36mdump\u001b[0;34m(value, filename, compress, protocol, cache_size)\u001b[0m\n\u001b[1;32m    503\u001b[0m     \u001b[0;32melif\u001b[0m \u001b[0mis_filename\u001b[0m\u001b[0;34m:\u001b[0m\u001b[0;34m\u001b[0m\u001b[0m\n\u001b[1;32m    504\u001b[0m         \u001b[0;32mwith\u001b[0m \u001b[0mopen\u001b[0m\u001b[0;34m(\u001b[0m\u001b[0mfilename\u001b[0m\u001b[0;34m,\u001b[0m \u001b[0;34m'wb'\u001b[0m\u001b[0;34m)\u001b[0m \u001b[0;32mas\u001b[0m \u001b[0mf\u001b[0m\u001b[0;34m:\u001b[0m\u001b[0;34m\u001b[0m\u001b[0m\n\u001b[0;32m--> 505\u001b[0;31m             \u001b[0mNumpyPickler\u001b[0m\u001b[0;34m(\u001b[0m\u001b[0mf\u001b[0m\u001b[0;34m,\u001b[0m \u001b[0mprotocol\u001b[0m\u001b[0;34m=\u001b[0m\u001b[0mprotocol\u001b[0m\u001b[0;34m)\u001b[0m\u001b[0;34m.\u001b[0m\u001b[0mdump\u001b[0m\u001b[0;34m(\u001b[0m\u001b[0mvalue\u001b[0m\u001b[0;34m)\u001b[0m\u001b[0;34m\u001b[0m\u001b[0m\n\u001b[0m\u001b[1;32m    506\u001b[0m     \u001b[0;32melse\u001b[0m\u001b[0;34m:\u001b[0m\u001b[0;34m\u001b[0m\u001b[0m\n\u001b[1;32m    507\u001b[0m         \u001b[0mNumpyPickler\u001b[0m\u001b[0;34m(\u001b[0m\u001b[0mfilename\u001b[0m\u001b[0;34m,\u001b[0m \u001b[0mprotocol\u001b[0m\u001b[0;34m=\u001b[0m\u001b[0mprotocol\u001b[0m\u001b[0;34m)\u001b[0m\u001b[0;34m.\u001b[0m\u001b[0mdump\u001b[0m\u001b[0;34m(\u001b[0m\u001b[0mvalue\u001b[0m\u001b[0;34m)\u001b[0m\u001b[0;34m\u001b[0m\u001b[0m\n",
      "\u001b[0;32m/Library/Frameworks/Python.framework/Versions/3.6/lib/python3.6/pickle.py\u001b[0m in \u001b[0;36mdump\u001b[0;34m(self, obj)\u001b[0m\n\u001b[1;32m    407\u001b[0m         \u001b[0;32mif\u001b[0m \u001b[0mself\u001b[0m\u001b[0;34m.\u001b[0m\u001b[0mproto\u001b[0m \u001b[0;34m>=\u001b[0m \u001b[0;36m4\u001b[0m\u001b[0;34m:\u001b[0m\u001b[0;34m\u001b[0m\u001b[0m\n\u001b[1;32m    408\u001b[0m             \u001b[0mself\u001b[0m\u001b[0;34m.\u001b[0m\u001b[0mframer\u001b[0m\u001b[0;34m.\u001b[0m\u001b[0mstart_framing\u001b[0m\u001b[0;34m(\u001b[0m\u001b[0;34m)\u001b[0m\u001b[0;34m\u001b[0m\u001b[0m\n\u001b[0;32m--> 409\u001b[0;31m         \u001b[0mself\u001b[0m\u001b[0;34m.\u001b[0m\u001b[0msave\u001b[0m\u001b[0;34m(\u001b[0m\u001b[0mobj\u001b[0m\u001b[0;34m)\u001b[0m\u001b[0;34m\u001b[0m\u001b[0m\n\u001b[0m\u001b[1;32m    410\u001b[0m         \u001b[0mself\u001b[0m\u001b[0;34m.\u001b[0m\u001b[0mwrite\u001b[0m\u001b[0;34m(\u001b[0m\u001b[0mSTOP\u001b[0m\u001b[0;34m)\u001b[0m\u001b[0;34m\u001b[0m\u001b[0m\n\u001b[1;32m    411\u001b[0m         \u001b[0mself\u001b[0m\u001b[0;34m.\u001b[0m\u001b[0mframer\u001b[0m\u001b[0;34m.\u001b[0m\u001b[0mend_framing\u001b[0m\u001b[0;34m(\u001b[0m\u001b[0;34m)\u001b[0m\u001b[0;34m\u001b[0m\u001b[0m\n",
      "\u001b[0;32m/Library/Frameworks/Python.framework/Versions/3.6/lib/python3.6/site-packages/joblib/numpy_pickle.py\u001b[0m in \u001b[0;36msave\u001b[0;34m(self, obj)\u001b[0m\n\u001b[1;32m    290\u001b[0m \u001b[0;34m\u001b[0m\u001b[0m\n\u001b[1;32m    291\u001b[0m             \u001b[0;31m# And then array bytes are written right after the wrapper.\u001b[0m\u001b[0;34m\u001b[0m\u001b[0;34m\u001b[0m\u001b[0m\n\u001b[0;32m--> 292\u001b[0;31m             \u001b[0mwrapper\u001b[0m\u001b[0;34m.\u001b[0m\u001b[0mwrite_array\u001b[0m\u001b[0;34m(\u001b[0m\u001b[0mobj\u001b[0m\u001b[0;34m,\u001b[0m \u001b[0mself\u001b[0m\u001b[0;34m)\u001b[0m\u001b[0;34m\u001b[0m\u001b[0m\n\u001b[0m\u001b[1;32m    293\u001b[0m             \u001b[0;32mreturn\u001b[0m\u001b[0;34m\u001b[0m\u001b[0m\n\u001b[1;32m    294\u001b[0m \u001b[0;34m\u001b[0m\u001b[0m\n",
      "\u001b[0;32m/Library/Frameworks/Python.framework/Versions/3.6/lib/python3.6/site-packages/joblib/numpy_pickle.py\u001b[0m in \u001b[0;36mwrite_array\u001b[0;34m(self, array, pickler)\u001b[0m\n\u001b[1;32m    102\u001b[0m                                            \u001b[0mbuffersize\u001b[0m\u001b[0;34m=\u001b[0m\u001b[0mbuffersize\u001b[0m\u001b[0;34m,\u001b[0m\u001b[0;34m\u001b[0m\u001b[0m\n\u001b[1;32m    103\u001b[0m                                            order=self.order):\n\u001b[0;32m--> 104\u001b[0;31m                 \u001b[0mpickler\u001b[0m\u001b[0;34m.\u001b[0m\u001b[0mfile_handle\u001b[0m\u001b[0;34m.\u001b[0m\u001b[0mwrite\u001b[0m\u001b[0;34m(\u001b[0m\u001b[0mchunk\u001b[0m\u001b[0;34m.\u001b[0m\u001b[0mtostring\u001b[0m\u001b[0;34m(\u001b[0m\u001b[0;34m'C'\u001b[0m\u001b[0;34m)\u001b[0m\u001b[0;34m)\u001b[0m\u001b[0;34m\u001b[0m\u001b[0m\n\u001b[0m\u001b[1;32m    105\u001b[0m \u001b[0;34m\u001b[0m\u001b[0m\n\u001b[1;32m    106\u001b[0m     \u001b[0;32mdef\u001b[0m \u001b[0mread_array\u001b[0m\u001b[0;34m(\u001b[0m\u001b[0mself\u001b[0m\u001b[0;34m,\u001b[0m \u001b[0munpickler\u001b[0m\u001b[0;34m)\u001b[0m\u001b[0;34m:\u001b[0m\u001b[0;34m\u001b[0m\u001b[0m\n",
      "\u001b[0;31mOSError\u001b[0m: [Errno 28] No space left on device"
     ]
    }
   ],
   "source": [
    "from sklearn.externals import joblib\n",
    "filename = 'y.sav'\n",
    "joblib.dump(y, filename)  "
   ]
  },
  {
   "cell_type": "code",
   "execution_count": null,
   "metadata": {},
   "outputs": [],
   "source": [
    "# define model\n",
    "model = Sequential()\n",
    "model.add(Embedding(vocab_size, 20, input_length=seq_length))\n",
    "model.add(LSTM(100, return_sequences=True))\n",
    "model.add(LSTM(100))\n",
    "model.add(Dense(100, activation='relu'))\n",
    "model.add(Dense(vocab_size, activation='softmax'))\n",
    "print(model.summary())"
   ]
  },
  {
   "cell_type": "code",
   "execution_count": null,
   "metadata": {},
   "outputs": [],
   "source": [
    "# compile moder\n",
    "model.compile(loss='categorical_crossentropy', optimizer='adam', metrics=['accuracy'])\n",
    "# fit model\n",
    "model.fit(X, y, batch_size=1024, epochs=5)"
   ]
  },
  {
   "cell_type": "code",
   "execution_count": null,
   "metadata": {},
   "outputs": [],
   "source": []
  },
  {
   "cell_type": "code",
   "execution_count": null,
   "metadata": {},
   "outputs": [],
   "source": []
  }
 ],
 "metadata": {
  "kernelspec": {
   "display_name": "Python 3",
   "language": "python",
   "name": "python3"
  },
  "language_info": {
   "codemirror_mode": {
    "name": "ipython",
    "version": 3
   },
   "file_extension": ".py",
   "mimetype": "text/x-python",
   "name": "python",
   "nbconvert_exporter": "python",
   "pygments_lexer": "ipython3",
   "version": "3.6.2"
  }
 },
 "nbformat": 4,
 "nbformat_minor": 2
}
